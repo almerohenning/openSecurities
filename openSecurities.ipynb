{
 "cells": [
  {
   "cell_type": "markdown",
   "id": "a5a71505",
   "metadata": {},
   "source": [
    "#### _ _ _ _ _ _ _ _ _ _ _ _ _ _ _ _ _ _ _ ^ click the double arrows, and press restart to run_ _ _ _ _ _ _ _ _ _ _ _ _ _ _ _ _ _ _ _ _ _ _ _ _ _ _ _ _ _ _ _ _ _ _"
   ]
  },
  {
   "cell_type": "markdown",
   "id": "8e265778",
   "metadata": {},
   "source": [
    "# Welcome to openSecurities\n",
    "              An investing tool for Individual Investors"
   ]
  },
  {
   "cell_type": "code",
   "execution_count": null,
   "id": "d7fcef19",
   "metadata": {
    "scrolled": false
   },
   "outputs": [
    {
     "name": "stdout",
     "output_type": "stream",
     "text": [
      "\n",
      "############################\n",
      "##                        ##\n",
      "##     openSecurities     ##\n",
      "##                        ##\n",
      "############################\n",
      "\n",
      "Instructions? (y/n)\n"
     ]
    }
   ],
   "source": [
    "from openSecurities import *"
   ]
  }
 ],
 "metadata": {
  "kernelspec": {
   "display_name": "Python 3",
   "language": "python",
   "name": "python3"
  },
  "language_info": {
   "codemirror_mode": {
    "name": "ipython",
    "version": 3
   },
   "file_extension": ".py",
   "mimetype": "text/x-python",
   "name": "python",
   "nbconvert_exporter": "python",
   "pygments_lexer": "ipython3",
   "version": "3.8.8"
  }
 },
 "nbformat": 4,
 "nbformat_minor": 5
}
